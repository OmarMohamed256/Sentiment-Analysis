{
 "cells": [
  {
   "cell_type": "code",
   "execution_count": 1,
   "id": "dfd87479",
   "metadata": {
    "_cell_guid": "b1076dfc-b9ad-4769-8c92-a6c4dae69d19",
    "_uuid": "8f2839f25d086af736a60e9eeb907d3b93b6e0e5",
    "execution": {
     "iopub.execute_input": "2022-05-31T05:12:14.345532Z",
     "iopub.status.busy": "2022-05-31T05:12:14.345069Z",
     "iopub.status.idle": "2022-05-31T05:12:21.526726Z",
     "shell.execute_reply": "2022-05-31T05:12:21.525680Z"
    },
    "papermill": {
     "duration": 7.198066,
     "end_time": "2022-05-31T05:12:21.529489",
     "exception": false,
     "start_time": "2022-05-31T05:12:14.331423",
     "status": "completed"
    },
    "tags": []
   },
   "outputs": [],
   "source": [
    "\n",
    "import cartopy\n",
    "import os\n",
    "import sys\n",
    "import numpy as np\n",
    "from keras.preprocessing.text import Tokenizer\n",
    "from keras.preprocessing.sequence import pad_sequences\n",
    "from tensorflow.keras.utils import to_categorical\n",
    "from keras.layers import Embedding\n",
    "from keras.layers import Dense, Input, GlobalMaxPooling1D\n",
    "from keras.layers import Conv1D, MaxPooling1D, Embedding, Flatten\n",
    "from keras.models import Model\n",
    "import pandas as pd"
   ]
  },
  {
   "cell_type": "code",
   "execution_count": 2,
   "id": "b4b09b19",
   "metadata": {
    "execution": {
     "iopub.execute_input": "2022-05-31T05:12:21.548264Z",
     "iopub.status.busy": "2022-05-31T05:12:21.547553Z",
     "iopub.status.idle": "2022-05-31T05:12:21.553624Z",
     "shell.execute_reply": "2022-05-31T05:12:21.552483Z"
    },
    "papermill": {
     "duration": 0.019495,
     "end_time": "2022-05-31T05:12:21.557530",
     "exception": false,
     "start_time": "2022-05-31T05:12:21.538035",
     "status": "completed"
    },
    "tags": []
   },
   "outputs": [
    {
     "name": "stdout",
     "output_type": "stream",
     "text": [
      "['glove6b100dtxt', 'd']\n"
     ]
    }
   ],
   "source": [
    "import os\n",
    "print(os.listdir(\"../input\"))"
   ]
  },
  {
   "cell_type": "code",
   "execution_count": 3,
   "id": "84c6db34",
   "metadata": {
    "execution": {
     "iopub.execute_input": "2022-05-31T05:12:21.575822Z",
     "iopub.status.busy": "2022-05-31T05:12:21.575446Z",
     "iopub.status.idle": "2022-05-31T05:12:22.754654Z",
     "shell.execute_reply": "2022-05-31T05:12:22.753335Z"
    },
    "papermill": {
     "duration": 1.191121,
     "end_time": "2022-05-31T05:12:22.756996",
     "exception": false,
     "start_time": "2022-05-31T05:12:21.565875",
     "status": "completed"
    },
    "tags": []
   },
   "outputs": [
    {
     "name": "stderr",
     "output_type": "stream",
     "text": [
      "/opt/conda/lib/python3.7/site-packages/IPython/core/interactiveshell.py:3552: DtypeWarning: Columns (1,10) have mixed types.Specify dtype option on import or set low_memory=False.\n",
      "  exec(code_obj, self.user_global_ns, self.user_ns)\n"
     ]
    },
    {
     "data": {
      "text/html": [
       "<div>\n",
       "<style scoped>\n",
       "    .dataframe tbody tr th:only-of-type {\n",
       "        vertical-align: middle;\n",
       "    }\n",
       "\n",
       "    .dataframe tbody tr th {\n",
       "        vertical-align: top;\n",
       "    }\n",
       "\n",
       "    .dataframe thead th {\n",
       "        text-align: right;\n",
       "    }\n",
       "</style>\n",
       "<table border=\"1\" class=\"dataframe\">\n",
       "  <thead>\n",
       "    <tr style=\"text-align: right;\">\n",
       "      <th></th>\n",
       "      <th>id</th>\n",
       "      <th>name</th>\n",
       "      <th>asins</th>\n",
       "      <th>brand</th>\n",
       "      <th>categories</th>\n",
       "      <th>keys</th>\n",
       "      <th>manufacturer</th>\n",
       "      <th>reviews.date</th>\n",
       "      <th>reviews.dateAdded</th>\n",
       "      <th>reviews.dateSeen</th>\n",
       "      <th>...</th>\n",
       "      <th>reviews.doRecommend</th>\n",
       "      <th>reviews.id</th>\n",
       "      <th>reviews.numHelpful</th>\n",
       "      <th>reviews.rating</th>\n",
       "      <th>reviews.sourceURLs</th>\n",
       "      <th>reviews.text</th>\n",
       "      <th>reviews.title</th>\n",
       "      <th>reviews.userCity</th>\n",
       "      <th>reviews.userProvince</th>\n",
       "      <th>reviews.username</th>\n",
       "    </tr>\n",
       "  </thead>\n",
       "  <tbody>\n",
       "    <tr>\n",
       "      <th>0</th>\n",
       "      <td>AVqkIhwDv8e3D1O-lebb</td>\n",
       "      <td>All-New Fire HD 8 Tablet, 8 HD Display, Wi-Fi,...</td>\n",
       "      <td>B01AHB9CN2</td>\n",
       "      <td>Amazon</td>\n",
       "      <td>Electronics,iPad &amp; Tablets,All Tablets,Fire Ta...</td>\n",
       "      <td>841667104676,amazon/53004484,amazon/b01ahb9cn2...</td>\n",
       "      <td>Amazon</td>\n",
       "      <td>2017-01-13T00:00:00.000Z</td>\n",
       "      <td>2017-07-03T23:33:15Z</td>\n",
       "      <td>2017-06-07T09:04:00.000Z,2017-04-30T00:45:00.000Z</td>\n",
       "      <td>...</td>\n",
       "      <td>True</td>\n",
       "      <td>NaN</td>\n",
       "      <td>0.0</td>\n",
       "      <td>5.0</td>\n",
       "      <td>http://reviews.bestbuy.com/3545/5620406/review...</td>\n",
       "      <td>This product so far has not disappointed. My c...</td>\n",
       "      <td>Kindle</td>\n",
       "      <td>NaN</td>\n",
       "      <td>NaN</td>\n",
       "      <td>Adapter</td>\n",
       "    </tr>\n",
       "    <tr>\n",
       "      <th>1</th>\n",
       "      <td>AVqkIhwDv8e3D1O-lebb</td>\n",
       "      <td>All-New Fire HD 8 Tablet, 8 HD Display, Wi-Fi,...</td>\n",
       "      <td>B01AHB9CN2</td>\n",
       "      <td>Amazon</td>\n",
       "      <td>Electronics,iPad &amp; Tablets,All Tablets,Fire Ta...</td>\n",
       "      <td>841667104676,amazon/53004484,amazon/b01ahb9cn2...</td>\n",
       "      <td>Amazon</td>\n",
       "      <td>2017-01-13T00:00:00.000Z</td>\n",
       "      <td>2017-07-03T23:33:15Z</td>\n",
       "      <td>2017-06-07T09:04:00.000Z,2017-04-30T00:45:00.000Z</td>\n",
       "      <td>...</td>\n",
       "      <td>True</td>\n",
       "      <td>NaN</td>\n",
       "      <td>0.0</td>\n",
       "      <td>5.0</td>\n",
       "      <td>http://reviews.bestbuy.com/3545/5620406/review...</td>\n",
       "      <td>great for beginner or experienced person. Boug...</td>\n",
       "      <td>very fast</td>\n",
       "      <td>NaN</td>\n",
       "      <td>NaN</td>\n",
       "      <td>truman</td>\n",
       "    </tr>\n",
       "    <tr>\n",
       "      <th>2</th>\n",
       "      <td>AVqkIhwDv8e3D1O-lebb</td>\n",
       "      <td>All-New Fire HD 8 Tablet, 8 HD Display, Wi-Fi,...</td>\n",
       "      <td>B01AHB9CN2</td>\n",
       "      <td>Amazon</td>\n",
       "      <td>Electronics,iPad &amp; Tablets,All Tablets,Fire Ta...</td>\n",
       "      <td>841667104676,amazon/53004484,amazon/b01ahb9cn2...</td>\n",
       "      <td>Amazon</td>\n",
       "      <td>2017-01-13T00:00:00.000Z</td>\n",
       "      <td>2017-07-03T23:33:15Z</td>\n",
       "      <td>2017-06-07T09:04:00.000Z,2017-04-30T00:45:00.000Z</td>\n",
       "      <td>...</td>\n",
       "      <td>True</td>\n",
       "      <td>NaN</td>\n",
       "      <td>0.0</td>\n",
       "      <td>5.0</td>\n",
       "      <td>http://reviews.bestbuy.com/3545/5620406/review...</td>\n",
       "      <td>Inexpensive tablet for him to use and learn on...</td>\n",
       "      <td>Beginner tablet for our 9 year old son.</td>\n",
       "      <td>NaN</td>\n",
       "      <td>NaN</td>\n",
       "      <td>DaveZ</td>\n",
       "    </tr>\n",
       "    <tr>\n",
       "      <th>3</th>\n",
       "      <td>AVqkIhwDv8e3D1O-lebb</td>\n",
       "      <td>All-New Fire HD 8 Tablet, 8 HD Display, Wi-Fi,...</td>\n",
       "      <td>B01AHB9CN2</td>\n",
       "      <td>Amazon</td>\n",
       "      <td>Electronics,iPad &amp; Tablets,All Tablets,Fire Ta...</td>\n",
       "      <td>841667104676,amazon/53004484,amazon/b01ahb9cn2...</td>\n",
       "      <td>Amazon</td>\n",
       "      <td>2017-01-13T00:00:00.000Z</td>\n",
       "      <td>2017-07-03T23:33:15Z</td>\n",
       "      <td>2017-06-07T09:04:00.000Z,2017-04-30T00:45:00.000Z</td>\n",
       "      <td>...</td>\n",
       "      <td>True</td>\n",
       "      <td>NaN</td>\n",
       "      <td>0.0</td>\n",
       "      <td>4.0</td>\n",
       "      <td>http://reviews.bestbuy.com/3545/5620406/review...</td>\n",
       "      <td>I've had my Fire HD 8 two weeks now and I love...</td>\n",
       "      <td>Good!!!</td>\n",
       "      <td>NaN</td>\n",
       "      <td>NaN</td>\n",
       "      <td>Shacks</td>\n",
       "    </tr>\n",
       "    <tr>\n",
       "      <th>4</th>\n",
       "      <td>AVqkIhwDv8e3D1O-lebb</td>\n",
       "      <td>All-New Fire HD 8 Tablet, 8 HD Display, Wi-Fi,...</td>\n",
       "      <td>B01AHB9CN2</td>\n",
       "      <td>Amazon</td>\n",
       "      <td>Electronics,iPad &amp; Tablets,All Tablets,Fire Ta...</td>\n",
       "      <td>841667104676,amazon/53004484,amazon/b01ahb9cn2...</td>\n",
       "      <td>Amazon</td>\n",
       "      <td>2017-01-12T00:00:00.000Z</td>\n",
       "      <td>2017-07-03T23:33:15Z</td>\n",
       "      <td>2017-06-07T09:04:00.000Z,2017-04-30T00:45:00.000Z</td>\n",
       "      <td>...</td>\n",
       "      <td>True</td>\n",
       "      <td>NaN</td>\n",
       "      <td>0.0</td>\n",
       "      <td>5.0</td>\n",
       "      <td>http://reviews.bestbuy.com/3545/5620406/review...</td>\n",
       "      <td>I bought this for my grand daughter when she c...</td>\n",
       "      <td>Fantastic Tablet for kids</td>\n",
       "      <td>NaN</td>\n",
       "      <td>NaN</td>\n",
       "      <td>explore42</td>\n",
       "    </tr>\n",
       "  </tbody>\n",
       "</table>\n",
       "<p>5 rows × 21 columns</p>\n",
       "</div>"
      ],
      "text/plain": [
       "                     id                                               name  \\\n",
       "0  AVqkIhwDv8e3D1O-lebb  All-New Fire HD 8 Tablet, 8 HD Display, Wi-Fi,...   \n",
       "1  AVqkIhwDv8e3D1O-lebb  All-New Fire HD 8 Tablet, 8 HD Display, Wi-Fi,...   \n",
       "2  AVqkIhwDv8e3D1O-lebb  All-New Fire HD 8 Tablet, 8 HD Display, Wi-Fi,...   \n",
       "3  AVqkIhwDv8e3D1O-lebb  All-New Fire HD 8 Tablet, 8 HD Display, Wi-Fi,...   \n",
       "4  AVqkIhwDv8e3D1O-lebb  All-New Fire HD 8 Tablet, 8 HD Display, Wi-Fi,...   \n",
       "\n",
       "        asins   brand                                         categories  \\\n",
       "0  B01AHB9CN2  Amazon  Electronics,iPad & Tablets,All Tablets,Fire Ta...   \n",
       "1  B01AHB9CN2  Amazon  Electronics,iPad & Tablets,All Tablets,Fire Ta...   \n",
       "2  B01AHB9CN2  Amazon  Electronics,iPad & Tablets,All Tablets,Fire Ta...   \n",
       "3  B01AHB9CN2  Amazon  Electronics,iPad & Tablets,All Tablets,Fire Ta...   \n",
       "4  B01AHB9CN2  Amazon  Electronics,iPad & Tablets,All Tablets,Fire Ta...   \n",
       "\n",
       "                                                keys manufacturer  \\\n",
       "0  841667104676,amazon/53004484,amazon/b01ahb9cn2...       Amazon   \n",
       "1  841667104676,amazon/53004484,amazon/b01ahb9cn2...       Amazon   \n",
       "2  841667104676,amazon/53004484,amazon/b01ahb9cn2...       Amazon   \n",
       "3  841667104676,amazon/53004484,amazon/b01ahb9cn2...       Amazon   \n",
       "4  841667104676,amazon/53004484,amazon/b01ahb9cn2...       Amazon   \n",
       "\n",
       "               reviews.date     reviews.dateAdded  \\\n",
       "0  2017-01-13T00:00:00.000Z  2017-07-03T23:33:15Z   \n",
       "1  2017-01-13T00:00:00.000Z  2017-07-03T23:33:15Z   \n",
       "2  2017-01-13T00:00:00.000Z  2017-07-03T23:33:15Z   \n",
       "3  2017-01-13T00:00:00.000Z  2017-07-03T23:33:15Z   \n",
       "4  2017-01-12T00:00:00.000Z  2017-07-03T23:33:15Z   \n",
       "\n",
       "                                    reviews.dateSeen  ... reviews.doRecommend  \\\n",
       "0  2017-06-07T09:04:00.000Z,2017-04-30T00:45:00.000Z  ...                True   \n",
       "1  2017-06-07T09:04:00.000Z,2017-04-30T00:45:00.000Z  ...                True   \n",
       "2  2017-06-07T09:04:00.000Z,2017-04-30T00:45:00.000Z  ...                True   \n",
       "3  2017-06-07T09:04:00.000Z,2017-04-30T00:45:00.000Z  ...                True   \n",
       "4  2017-06-07T09:04:00.000Z,2017-04-30T00:45:00.000Z  ...                True   \n",
       "\n",
       "  reviews.id  reviews.numHelpful  reviews.rating  \\\n",
       "0        NaN                 0.0             5.0   \n",
       "1        NaN                 0.0             5.0   \n",
       "2        NaN                 0.0             5.0   \n",
       "3        NaN                 0.0             4.0   \n",
       "4        NaN                 0.0             5.0   \n",
       "\n",
       "                                  reviews.sourceURLs  \\\n",
       "0  http://reviews.bestbuy.com/3545/5620406/review...   \n",
       "1  http://reviews.bestbuy.com/3545/5620406/review...   \n",
       "2  http://reviews.bestbuy.com/3545/5620406/review...   \n",
       "3  http://reviews.bestbuy.com/3545/5620406/review...   \n",
       "4  http://reviews.bestbuy.com/3545/5620406/review...   \n",
       "\n",
       "                                        reviews.text  \\\n",
       "0  This product so far has not disappointed. My c...   \n",
       "1  great for beginner or experienced person. Boug...   \n",
       "2  Inexpensive tablet for him to use and learn on...   \n",
       "3  I've had my Fire HD 8 two weeks now and I love...   \n",
       "4  I bought this for my grand daughter when she c...   \n",
       "\n",
       "                             reviews.title reviews.userCity  \\\n",
       "0                                   Kindle              NaN   \n",
       "1                                very fast              NaN   \n",
       "2  Beginner tablet for our 9 year old son.              NaN   \n",
       "3                                  Good!!!              NaN   \n",
       "4                Fantastic Tablet for kids              NaN   \n",
       "\n",
       "   reviews.userProvince  reviews.username  \n",
       "0                   NaN           Adapter  \n",
       "1                   NaN            truman  \n",
       "2                   NaN             DaveZ  \n",
       "3                   NaN            Shacks  \n",
       "4                   NaN         explore42  \n",
       "\n",
       "[5 rows x 21 columns]"
      ]
     },
     "execution_count": 3,
     "metadata": {},
     "output_type": "execute_result"
    }
   ],
   "source": [
    "data=pd.read_csv('../input/d/datasets/omarmohamed25483/amazondatasetsaugmentedbyneutrals/DATASET - data - data (1).csv')\n",
    "data.head()"
   ]
  },
  {
   "cell_type": "code",
   "execution_count": 4,
   "id": "b64a1a3f",
   "metadata": {
    "execution": {
     "iopub.execute_input": "2022-05-31T05:12:22.777182Z",
     "iopub.status.busy": "2022-05-31T05:12:22.776728Z",
     "iopub.status.idle": "2022-05-31T05:12:22.797589Z",
     "shell.execute_reply": "2022-05-31T05:12:22.796745Z"
    },
    "papermill": {
     "duration": 0.034111,
     "end_time": "2022-05-31T05:12:22.800321",
     "exception": false,
     "start_time": "2022-05-31T05:12:22.766210",
     "status": "completed"
    },
    "tags": []
   },
   "outputs": [
    {
     "data": {
      "text/html": [
       "<div>\n",
       "<style scoped>\n",
       "    .dataframe tbody tr th:only-of-type {\n",
       "        vertical-align: middle;\n",
       "    }\n",
       "\n",
       "    .dataframe tbody tr th {\n",
       "        vertical-align: top;\n",
       "    }\n",
       "\n",
       "    .dataframe thead th {\n",
       "        text-align: right;\n",
       "    }\n",
       "</style>\n",
       "<table border=\"1\" class=\"dataframe\">\n",
       "  <thead>\n",
       "    <tr style=\"text-align: right;\">\n",
       "      <th></th>\n",
       "      <th>reviews.rating</th>\n",
       "      <th>No of Users</th>\n",
       "    </tr>\n",
       "  </thead>\n",
       "  <tbody>\n",
       "    <tr>\n",
       "      <th>0</th>\n",
       "      <td>5.0</td>\n",
       "      <td>23775</td>\n",
       "    </tr>\n",
       "    <tr>\n",
       "      <th>1</th>\n",
       "      <td>-1.0</td>\n",
       "      <td>10413</td>\n",
       "    </tr>\n",
       "    <tr>\n",
       "      <th>2</th>\n",
       "      <td>1.0</td>\n",
       "      <td>9820</td>\n",
       "    </tr>\n",
       "    <tr>\n",
       "      <th>3</th>\n",
       "      <td>4.0</td>\n",
       "      <td>8541</td>\n",
       "    </tr>\n",
       "    <tr>\n",
       "      <th>4</th>\n",
       "      <td>3.0</td>\n",
       "      <td>1499</td>\n",
       "    </tr>\n",
       "    <tr>\n",
       "      <th>5</th>\n",
       "      <td>2.0</td>\n",
       "      <td>402</td>\n",
       "    </tr>\n",
       "  </tbody>\n",
       "</table>\n",
       "</div>"
      ],
      "text/plain": [
       "   reviews.rating  No of Users\n",
       "0             5.0        23775\n",
       "1            -1.0        10413\n",
       "2             1.0         9820\n",
       "3             4.0         8541\n",
       "4             3.0         1499\n",
       "5             2.0          402"
      ]
     },
     "execution_count": 4,
     "metadata": {},
     "output_type": "execute_result"
    }
   ],
   "source": [
    "review=pd.DataFrame(data.groupby('reviews.rating').size().sort_values(ascending=False).rename('No of Users').reset_index())\n",
    "review"
   ]
  },
  {
   "cell_type": "code",
   "execution_count": 5,
   "id": "2e32f9ef",
   "metadata": {
    "execution": {
     "iopub.execute_input": "2022-05-31T05:12:22.820188Z",
     "iopub.status.busy": "2022-05-31T05:12:22.819407Z",
     "iopub.status.idle": "2022-05-31T05:12:22.840538Z",
     "shell.execute_reply": "2022-05-31T05:12:22.839439Z"
    },
    "papermill": {
     "duration": 0.033803,
     "end_time": "2022-05-31T05:12:22.843069",
     "exception": false,
     "start_time": "2022-05-31T05:12:22.809266",
     "status": "completed"
    },
    "tags": []
   },
   "outputs": [],
   "source": [
    "permanent = data[['reviews.rating' , 'reviews.text']]\n",
    "mpermanent=permanent.dropna()"
   ]
  },
  {
   "cell_type": "code",
   "execution_count": 6,
   "id": "e57ebc99",
   "metadata": {
    "execution": {
     "iopub.execute_input": "2022-05-31T05:12:22.863089Z",
     "iopub.status.busy": "2022-05-31T05:12:22.862301Z",
     "iopub.status.idle": "2022-05-31T05:12:22.871806Z",
     "shell.execute_reply": "2022-05-31T05:12:22.870686Z"
    },
    "papermill": {
     "duration": 0.021936,
     "end_time": "2022-05-31T05:12:22.874026",
     "exception": false,
     "start_time": "2022-05-31T05:12:22.852090",
     "status": "completed"
    },
    "tags": []
   },
   "outputs": [
    {
     "data": {
      "text/plain": [
       "54478    1.0\n",
       "54479    1.0\n",
       "54480    1.0\n",
       "54481    1.0\n",
       "54482    1.0\n",
       "Name: reviews.rating, dtype: float64"
      ]
     },
     "execution_count": 6,
     "metadata": {},
     "output_type": "execute_result"
    }
   ],
   "source": [
    "mpermanent['reviews.rating'].tail()"
   ]
  },
  {
   "cell_type": "code",
   "execution_count": 7,
   "id": "1e3f3d6d",
   "metadata": {
    "execution": {
     "iopub.execute_input": "2022-05-31T05:12:22.894637Z",
     "iopub.status.busy": "2022-05-31T05:12:22.893729Z",
     "iopub.status.idle": "2022-05-31T05:12:22.899670Z",
     "shell.execute_reply": "2022-05-31T05:12:22.898687Z"
    },
    "papermill": {
     "duration": 0.018398,
     "end_time": "2022-05-31T05:12:22.901806",
     "exception": false,
     "start_time": "2022-05-31T05:12:22.883408",
     "status": "completed"
    },
    "tags": []
   },
   "outputs": [
    {
     "data": {
      "text/plain": [
       "(54448,)"
      ]
     },
     "execution_count": 7,
     "metadata": {},
     "output_type": "execute_result"
    }
   ],
   "source": [
    "mpermanent['reviews.rating'].shape"
   ]
  },
  {
   "cell_type": "code",
   "execution_count": 8,
   "id": "8238692d",
   "metadata": {
    "execution": {
     "iopub.execute_input": "2022-05-31T05:12:22.922024Z",
     "iopub.status.busy": "2022-05-31T05:12:22.921416Z",
     "iopub.status.idle": "2022-05-31T05:12:22.952821Z",
     "shell.execute_reply": "2022-05-31T05:12:22.951301Z"
    },
    "papermill": {
     "duration": 0.045706,
     "end_time": "2022-05-31T05:12:22.956724",
     "exception": false,
     "start_time": "2022-05-31T05:12:22.911018",
     "status": "completed"
    },
    "tags": []
   },
   "outputs": [
    {
     "name": "stderr",
     "output_type": "stream",
     "text": [
      "/opt/conda/lib/python3.7/site-packages/ipykernel_launcher.py:14: SettingWithCopyWarning: \n",
      "A value is trying to be set on a copy of a slice from a DataFrame.\n",
      "Try using .loc[row_indexer,col_indexer] = value instead\n",
      "\n",
      "See the caveats in the documentation: https://pandas.pydata.org/pandas-docs/stable/user_guide/indexing.html#returning-a-view-versus-a-copy\n",
      "  \n"
     ]
    }
   ],
   "source": [
    "# if rating >=3 label = 1\n",
    "# if rating ==-1 label = 2\n",
    "# if rating <3 label = 0\n",
    "ratings = mpermanent['reviews.rating']\n",
    "label = []\n",
    "for i in ratings:\n",
    "    if i >= 3:\n",
    "        label.append('1')\n",
    "    elif i == -1:\n",
    "        label.append('2')\n",
    "    else: \n",
    "        label.append('0')\n",
    "        \n",
    "mpermanent['label'] = label"
   ]
  },
  {
   "cell_type": "code",
   "execution_count": 9,
   "id": "dd8cc443",
   "metadata": {
    "execution": {
     "iopub.execute_input": "2022-05-31T05:12:22.977415Z",
     "iopub.status.busy": "2022-05-31T05:12:22.976696Z",
     "iopub.status.idle": "2022-05-31T05:12:22.981087Z",
     "shell.execute_reply": "2022-05-31T05:12:22.980377Z"
    },
    "papermill": {
     "duration": 0.016889,
     "end_time": "2022-05-31T05:12:22.983082",
     "exception": false,
     "start_time": "2022-05-31T05:12:22.966193",
     "status": "completed"
    },
    "tags": []
   },
   "outputs": [],
   "source": [
    "reviews = mpermanent['reviews.text']\n",
    "labels = mpermanent['label']"
   ]
  },
  {
   "cell_type": "code",
   "execution_count": 10,
   "id": "a6a2ce4b",
   "metadata": {
    "execution": {
     "iopub.execute_input": "2022-05-31T05:12:23.004088Z",
     "iopub.status.busy": "2022-05-31T05:12:23.003514Z",
     "iopub.status.idle": "2022-05-31T05:12:23.007638Z",
     "shell.execute_reply": "2022-05-31T05:12:23.006941Z"
    },
    "papermill": {
     "duration": 0.016797,
     "end_time": "2022-05-31T05:12:23.009579",
     "exception": false,
     "start_time": "2022-05-31T05:12:22.992782",
     "status": "completed"
    },
    "tags": []
   },
   "outputs": [
    {
     "name": "stdout",
     "output_type": "stream",
     "text": [
      "(54448,)\n"
     ]
    }
   ],
   "source": [
    "print(labels.shape)"
   ]
  },
  {
   "cell_type": "code",
   "execution_count": 11,
   "id": "08cf8490",
   "metadata": {
    "execution": {
     "iopub.execute_input": "2022-05-31T05:12:23.030696Z",
     "iopub.status.busy": "2022-05-31T05:12:23.029561Z",
     "iopub.status.idle": "2022-05-31T05:12:24.531514Z",
     "shell.execute_reply": "2022-05-31T05:12:24.530429Z"
    },
    "papermill": {
     "duration": 1.515177,
     "end_time": "2022-05-31T05:12:24.534014",
     "exception": false,
     "start_time": "2022-05-31T05:12:23.018837",
     "status": "completed"
    },
    "tags": []
   },
   "outputs": [],
   "source": [
    "from nltk.corpus import stopwords\n",
    "stop = set(stopwords.words('english'))"
   ]
  },
  {
   "cell_type": "code",
   "execution_count": 12,
   "id": "c5f01435",
   "metadata": {
    "execution": {
     "iopub.execute_input": "2022-05-31T05:12:24.554299Z",
     "iopub.status.busy": "2022-05-31T05:12:24.553860Z",
     "iopub.status.idle": "2022-05-31T05:12:24.564804Z",
     "shell.execute_reply": "2022-05-31T05:12:24.563779Z"
    },
    "papermill": {
     "duration": 0.023331,
     "end_time": "2022-05-31T05:12:24.566746",
     "exception": false,
     "start_time": "2022-05-31T05:12:24.543415",
     "status": "completed"
    },
    "tags": []
   },
   "outputs": [],
   "source": [
    "def clean_document(doco):\n",
    "    punctuation = string.punctuation\n",
    "    punc_replace = ''.join([' ' for s in punctuation])\n",
    "    doco_link_clean = re.sub(r'http\\S+', '', doco)\n",
    "    doco_clean_and = re.sub(r'&\\S+', '', doco_link_clean)\n",
    "    doco_clean_at = re.sub(r'@\\S+', '', doco_clean_and)\n",
    "    doco_clean = doco_clean_at.replace('-', ' ')\n",
    "    doco_alphas = re.sub(r'\\W +', ' ', doco_clean)\n",
    "    trans_table = str.maketrans(punctuation, punc_replace)\n",
    "    doco_clean = ' '.join([word.translate(trans_table) for word in doco_alphas.split(' ')])\n",
    "    doco_clean = doco_clean.split(' ')\n",
    "    p = re.compile(r'\\s*\\b(?=[a-z\\d]*([a-z\\d])\\1{3}|\\d+\\b)[a-z\\d]+', re.IGNORECASE)\n",
    "    doco_clean = ([p.sub(\"\", x).strip() for x in doco_clean])\n",
    "    doco_clean = [word.lower() for word in doco_clean if len(word) > 2]\n",
    "    doco_clean = ([i for i in doco_clean if i not in stop])\n",
    "#     doco_clean = [spell(word) for word in doco_clean]\n",
    "#     p = re.compile(r'\\s*\\b(?=[a-z\\d]*([a-z\\d])\\1{3}|\\d+\\b)[a-z\\d]+', re.IGNORECASE)\n",
    "    doco_clean = ([p.sub(\"\", x).strip() for x in doco_clean])\n",
    "#     doco_clean = ([spell(k) for k in doco_clean])\n",
    "    return doco_clean"
   ]
  },
  {
   "cell_type": "code",
   "execution_count": 13,
   "id": "618c5d1e",
   "metadata": {
    "execution": {
     "iopub.execute_input": "2022-05-31T05:12:24.587341Z",
     "iopub.status.busy": "2022-05-31T05:12:24.586416Z",
     "iopub.status.idle": "2022-05-31T05:12:41.093511Z",
     "shell.execute_reply": "2022-05-31T05:12:41.092541Z"
    },
    "papermill": {
     "duration": 16.519748,
     "end_time": "2022-05-31T05:12:41.095868",
     "exception": false,
     "start_time": "2022-05-31T05:12:24.576120",
     "status": "completed"
    },
    "tags": []
   },
   "outputs": [],
   "source": [
    "import regex as re\n",
    "import string\n",
    "review_cleans = [clean_document(doc) for doc in reviews];\n",
    "sentences = [' '.join(r) for r in review_cleans ]"
   ]
  },
  {
   "cell_type": "code",
   "execution_count": 14,
   "id": "21811e66",
   "metadata": {
    "execution": {
     "iopub.execute_input": "2022-05-31T05:12:41.116391Z",
     "iopub.status.busy": "2022-05-31T05:12:41.115987Z",
     "iopub.status.idle": "2022-05-31T05:12:41.125015Z",
     "shell.execute_reply": "2022-05-31T05:12:41.123714Z"
    },
    "papermill": {
     "duration": 0.021828,
     "end_time": "2022-05-31T05:12:41.127187",
     "exception": false,
     "start_time": "2022-05-31T05:12:41.105359",
     "status": "completed"
    },
    "tags": []
   },
   "outputs": [
    {
     "name": "stdout",
     "output_type": "stream",
     "text": [
      "I gave this as a Christmas gift to my inlaws, husband and uncle. They loved it and how easy they are to use with fantastic features!\n"
     ]
    }
   ],
   "source": [
    "print(reviews[7])"
   ]
  },
  {
   "cell_type": "code",
   "execution_count": 15,
   "id": "69862072",
   "metadata": {
    "execution": {
     "iopub.execute_input": "2022-05-31T05:12:41.148215Z",
     "iopub.status.busy": "2022-05-31T05:12:41.147364Z",
     "iopub.status.idle": "2022-05-31T05:12:41.152403Z",
     "shell.execute_reply": "2022-05-31T05:12:41.151324Z"
    },
    "papermill": {
     "duration": 0.017721,
     "end_time": "2022-05-31T05:12:41.154508",
     "exception": false,
     "start_time": "2022-05-31T05:12:41.136787",
     "status": "completed"
    },
    "tags": []
   },
   "outputs": [
    {
     "name": "stdout",
     "output_type": "stream",
     "text": [
      "gave christmas gift inlaws husband uncle loved easy use fantastic features\n"
     ]
    }
   ],
   "source": [
    "print(sentences[7])"
   ]
  },
  {
   "cell_type": "code",
   "execution_count": 16,
   "id": "53736276",
   "metadata": {
    "execution": {
     "iopub.execute_input": "2022-05-31T05:12:41.175247Z",
     "iopub.status.busy": "2022-05-31T05:12:41.174805Z",
     "iopub.status.idle": "2022-05-31T05:12:41.179482Z",
     "shell.execute_reply": "2022-05-31T05:12:41.178543Z"
    },
    "papermill": {
     "duration": 0.017381,
     "end_time": "2022-05-31T05:12:41.181591",
     "exception": false,
     "start_time": "2022-05-31T05:12:41.164210",
     "status": "completed"
    },
    "tags": []
   },
   "outputs": [],
   "source": [
    "MAX_SEQUENCE_LENGTH = 10\n",
    "MAX_NUM_WORDS = 20000"
   ]
  },
  {
   "cell_type": "code",
   "execution_count": 17,
   "id": "9975a552",
   "metadata": {
    "execution": {
     "iopub.execute_input": "2022-05-31T05:12:41.201891Z",
     "iopub.status.busy": "2022-05-31T05:12:41.201486Z",
     "iopub.status.idle": "2022-05-31T05:12:44.384688Z",
     "shell.execute_reply": "2022-05-31T05:12:44.383572Z"
    },
    "papermill": {
     "duration": 3.196832,
     "end_time": "2022-05-31T05:12:44.387903",
     "exception": false,
     "start_time": "2022-05-31T05:12:41.191071",
     "status": "completed"
    },
    "tags": []
   },
   "outputs": [
    {
     "name": "stdout",
     "output_type": "stream",
     "text": [
      "Found 37471 unique tokens.\n",
      "Shape of samples: (54448, 10)\n",
      "Sampele:(the zeros at the begining are for padding text to max length)\n",
      "[ 646    2    5  536 1112 4695 1658  536 3728  253]\n"
     ]
    }
   ],
   "source": [
    "# tiknization\n",
    "tokenizer = Tokenizer(num_words=MAX_NUM_WORDS)\n",
    "tokenizer.fit_on_texts(sentences)\n",
    "sequences = tokenizer.texts_to_sequences(sentences)\n",
    "word_index = tokenizer.word_index # the dictionary\n",
    "print('Found %s unique tokens.' % len(word_index)) #only top MAX_NUM_WORDS will be usedto generate the sequences\n",
    "data = pad_sequences(sequences, maxlen=MAX_SEQUENCE_LENGTH)\n",
    "print('Shape of samples:', data.shape)\n",
    "print('Sampele:(the zeros at the begining are for padding text to max length)')\n",
    "print(data[2])"
   ]
  },
  {
   "cell_type": "code",
   "execution_count": 18,
   "id": "66bec38d",
   "metadata": {
    "execution": {
     "iopub.execute_input": "2022-05-31T05:12:44.409403Z",
     "iopub.status.busy": "2022-05-31T05:12:44.409008Z",
     "iopub.status.idle": "2022-05-31T05:12:44.423882Z",
     "shell.execute_reply": "2022-05-31T05:12:44.422763Z"
    },
    "papermill": {
     "duration": 0.027616,
     "end_time": "2022-05-31T05:12:44.425869",
     "exception": false,
     "start_time": "2022-05-31T05:12:44.398253",
     "status": "completed"
    },
    "tags": []
   },
   "outputs": [
    {
     "name": "stdout",
     "output_type": "stream",
     "text": [
      "Shape of data tensor: (54448, 10)\n",
      "Shape of label tensor: (54448, 3)\n",
      "Sample label:\n",
      " [0. 1. 0.]\n"
     ]
    }
   ],
   "source": [
    "# Each label will be a binary vector of size 20\n",
    "labels_matrix = to_categorical(np.asarray(labels))\n",
    "print('Shape of data tensor:', data.shape)\n",
    "print('Shape of label tensor:', labels_matrix.shape)\n",
    "print('Sample label:\\n',labels_matrix[1590])"
   ]
  },
  {
   "cell_type": "code",
   "execution_count": 19,
   "id": "50254cb8",
   "metadata": {
    "execution": {
     "iopub.execute_input": "2022-05-31T05:12:44.447174Z",
     "iopub.status.busy": "2022-05-31T05:12:44.446582Z",
     "iopub.status.idle": "2022-05-31T05:12:44.463283Z",
     "shell.execute_reply": "2022-05-31T05:12:44.461985Z"
    },
    "papermill": {
     "duration": 0.030364,
     "end_time": "2022-05-31T05:12:44.466028",
     "exception": false,
     "start_time": "2022-05-31T05:12:44.435664",
     "status": "completed"
    },
    "tags": []
   },
   "outputs": [
    {
     "name": "stdout",
     "output_type": "stream",
     "text": [
      "Shape of training data:  (43559, 10)\n",
      "Shape of testing data:  (10889, 10)\n"
     ]
    }
   ],
   "source": [
    "VALIDATION_SPLIT = 0.2\n",
    "indices = np.arange(data.shape[0])\n",
    "np.random.shuffle(indices)\n",
    "data_shuffled = data[indices]\n",
    "labels_shuffled = labels_matrix[indices]\n",
    "nb_validation_samples = int(VALIDATION_SPLIT * data_shuffled.shape[0])\n",
    "x_train = data_shuffled[:-nb_validation_samples]\n",
    "y_train = labels_shuffled[:-nb_validation_samples]\n",
    "x_val = data_shuffled[-nb_validation_samples:]\n",
    "y_val = labels_shuffled[-nb_validation_samples:]\n",
    "print('Shape of training data: ',x_train.shape)\n",
    "print('Shape of testing data: ',x_val.shape)"
   ]
  },
  {
   "cell_type": "code",
   "execution_count": 20,
   "id": "f2c4498a",
   "metadata": {
    "execution": {
     "iopub.execute_input": "2022-05-31T05:12:44.487901Z",
     "iopub.status.busy": "2022-05-31T05:12:44.487522Z",
     "iopub.status.idle": "2022-05-31T05:12:57.600028Z",
     "shell.execute_reply": "2022-05-31T05:12:57.599011Z"
    },
    "papermill": {
     "duration": 13.126423,
     "end_time": "2022-05-31T05:12:57.602943",
     "exception": false,
     "start_time": "2022-05-31T05:12:44.476520",
     "status": "completed"
    },
    "tags": []
   },
   "outputs": [
    {
     "name": "stdout",
     "output_type": "stream",
     "text": [
      "Indexing word vectors.\n",
      "Found 400000 word vectors.\n"
     ]
    }
   ],
   "source": [
    "# Build a dictionary mapping words in the embeddings set to their embedding vector\n",
    "EMBEDDING_DIM = 100\n",
    "print('Indexing word vectors.')\n",
    "embeddings_index = {}\n",
    "with open('../input//glove6b100dtxt//glove.6B.100d.txt',encoding='UTF8') as f:\n",
    " for line in f:\n",
    "     values = line.split(sep=' ')\n",
    "     word = values[0]\n",
    "     coefs = np.asarray(values[1:], dtype='float32')\n",
    "     embeddings_index[word] = coefs\n",
    "print('Found %s word vectors.' % len(embeddings_index))"
   ]
  },
  {
   "cell_type": "code",
   "execution_count": 21,
   "id": "3af68ef0",
   "metadata": {
    "execution": {
     "iopub.execute_input": "2022-05-31T05:12:57.625655Z",
     "iopub.status.busy": "2022-05-31T05:12:57.625271Z",
     "iopub.status.idle": "2022-05-31T05:12:57.717075Z",
     "shell.execute_reply": "2022-05-31T05:12:57.714750Z"
    },
    "papermill": {
     "duration": 0.106775,
     "end_time": "2022-05-31T05:12:57.720418",
     "exception": false,
     "start_time": "2022-05-31T05:12:57.613643",
     "status": "completed"
    },
    "tags": []
   },
   "outputs": [
    {
     "name": "stdout",
     "output_type": "stream",
     "text": [
      "Shape of Embedding Matrix:  (37472, 100)\n"
     ]
    }
   ],
   "source": [
    "# the words in the dataset that don't exist in Glove's dictionary will get a zeroes vector these words\n",
    "# already have id 0 so there zeros embedding ector will be at index zero in the new matrix\n",
    "embedding_matrix = np.zeros((len(word_index) + 1, EMBEDDING_DIM))#+1 to include the zerors vector for non-existing words\n",
    "for word, i in word_index.items():\n",
    " embedding_vector = embeddings_index.get(word)\n",
    " if embedding_vector is not None:\n",
    "    embedding_matrix[i] = embedding_vector\n",
    "print ('Shape of Embedding Matrix: ',embedding_matrix.shape)\n"
   ]
  },
  {
   "cell_type": "code",
   "execution_count": 22,
   "id": "622b5d0e",
   "metadata": {
    "execution": {
     "iopub.execute_input": "2022-05-31T05:12:57.744631Z",
     "iopub.status.busy": "2022-05-31T05:12:57.743809Z",
     "iopub.status.idle": "2022-05-31T05:12:57.790644Z",
     "shell.execute_reply": "2022-05-31T05:12:57.789445Z"
    },
    "papermill": {
     "duration": 0.061675,
     "end_time": "2022-05-31T05:12:57.793582",
     "exception": false,
     "start_time": "2022-05-31T05:12:57.731907",
     "status": "completed"
    },
    "tags": []
   },
   "outputs": [],
   "source": [
    "# responsible of converting a paded sequence of words IDs to a sequence of words embeddings\n",
    "embedding_layer = Embedding(len(word_index) + 1, #vocab size\n",
    " EMBEDDING_DIM, #embedding vector size\n",
    " weights=[embedding_matrix], #weights matrix\n",
    " input_length=MAX_SEQUENCE_LENGTH, #padded sequence length\n",
    " trainable=False)"
   ]
  },
  {
   "cell_type": "code",
   "execution_count": 23,
   "id": "e18f896d",
   "metadata": {
    "execution": {
     "iopub.execute_input": "2022-05-31T05:12:57.820674Z",
     "iopub.status.busy": "2022-05-31T05:12:57.819609Z",
     "iopub.status.idle": "2022-05-31T05:12:58.023446Z",
     "shell.execute_reply": "2022-05-31T05:12:58.021689Z"
    },
    "papermill": {
     "duration": 0.21765,
     "end_time": "2022-05-31T05:12:58.025716",
     "exception": false,
     "start_time": "2022-05-31T05:12:57.808066",
     "status": "completed"
    },
    "tags": []
   },
   "outputs": [
    {
     "name": "stderr",
     "output_type": "stream",
     "text": [
      "2022-05-31 05:12:57.860193: I tensorflow/core/common_runtime/process_util.cc:146] Creating new thread pool with default inter op setting: 2. Tune using inter_op_parallelism_threads for best performance.\n"
     ]
    }
   ],
   "source": [
    "sequence_input = Input(shape=(MAX_SEQUENCE_LENGTH,), dtype='int32')\n",
    "embedded_sequences = embedding_layer(sequence_input)\n",
    "x = Conv1D(128, 1, activation='relu')(embedded_sequences)\n",
    "x = MaxPooling1D(1)(x)\n",
    "x = Conv1D(128, 1, activation='relu')(x)\n",
    "x = MaxPooling1D(1)(x)\n",
    "x = Conv1D(128, 1, activation='relu')(x)\n",
    "x = MaxPooling1D(10)(x) # global max pooling\n",
    "x = Flatten()(x)\n",
    "x = Dense(128, activation='relu')(x)\n",
    "preds = Dense(3, activation='softmax')(x)"
   ]
  },
  {
   "cell_type": "code",
   "execution_count": 24,
   "id": "0c252caa",
   "metadata": {
    "execution": {
     "iopub.execute_input": "2022-05-31T05:12:58.048521Z",
     "iopub.status.busy": "2022-05-31T05:12:58.048110Z",
     "iopub.status.idle": "2022-05-31T05:13:22.599517Z",
     "shell.execute_reply": "2022-05-31T05:13:22.598456Z"
    },
    "papermill": {
     "duration": 24.56573,
     "end_time": "2022-05-31T05:13:22.601843",
     "exception": false,
     "start_time": "2022-05-31T05:12:58.036113",
     "status": "completed"
    },
    "tags": []
   },
   "outputs": [
    {
     "name": "stderr",
     "output_type": "stream",
     "text": [
      "2022-05-31 05:12:58.146674: I tensorflow/compiler/mlir/mlir_graph_optimization_pass.cc:185] None of the MLIR Optimization Passes are enabled (registered 2)\n"
     ]
    },
    {
     "name": "stdout",
     "output_type": "stream",
     "text": [
      "Epoch 1/5\n",
      "341/341 [==============================] - 6s 13ms/step - loss: 0.2507 - acc: 0.9118 - val_loss: 0.2741 - val_acc: 0.8985\n",
      "Epoch 2/5\n",
      "341/341 [==============================] - 5s 15ms/step - loss: 0.1486 - acc: 0.9512 - val_loss: 0.1595 - val_acc: 0.9497\n",
      "Epoch 3/5\n",
      "341/341 [==============================] - 4s 13ms/step - loss: 0.1208 - acc: 0.9609 - val_loss: 0.1558 - val_acc: 0.9496\n",
      "Epoch 4/5\n",
      "341/341 [==============================] - 5s 13ms/step - loss: 0.1043 - acc: 0.9658 - val_loss: 0.1500 - val_acc: 0.9544\n",
      "Epoch 5/5\n",
      "341/341 [==============================] - 5s 14ms/step - loss: 0.0930 - acc: 0.9695 - val_loss: 0.1795 - val_acc: 0.9432\n"
     ]
    },
    {
     "data": {
      "text/plain": [
       "<keras.callbacks.History at 0x7f94caf8d3d0>"
      ]
     },
     "execution_count": 24,
     "metadata": {},
     "output_type": "execute_result"
    }
   ],
   "source": [
    "model = Model(sequence_input, preds)\n",
    "model.compile(loss='categorical_crossentropy',\n",
    " optimizer='rmsprop',\n",
    " metrics=['acc'])\n",
    "# happy learning!\n",
    "model.fit(x_train, y_train, validation_data=(x_val, y_val),\n",
    " epochs=5, batch_size=128)"
   ]
  },
  {
   "cell_type": "code",
   "execution_count": 25,
   "id": "74d0713f",
   "metadata": {
    "execution": {
     "iopub.execute_input": "2022-05-31T05:13:22.677571Z",
     "iopub.status.busy": "2022-05-31T05:13:22.677141Z",
     "iopub.status.idle": "2022-05-31T05:13:23.907224Z",
     "shell.execute_reply": "2022-05-31T05:13:23.906070Z"
    },
    "papermill": {
     "duration": 1.270561,
     "end_time": "2022-05-31T05:13:23.909346",
     "exception": false,
     "start_time": "2022-05-31T05:13:22.638785",
     "status": "completed"
    },
    "tags": []
   },
   "outputs": [
    {
     "name": "stdout",
     "output_type": "stream",
     "text": [
      "Acuracy on testing set:\n",
      "341/341 [==============================] - 1s 3ms/step - loss: 0.1795 - acc: 0.9432\n"
     ]
    },
    {
     "data": {
      "text/plain": [
       "[0.17948420345783234, 0.9432454705238342]"
      ]
     },
     "execution_count": 25,
     "metadata": {},
     "output_type": "execute_result"
    }
   ],
   "source": [
    "print('Acuracy on testing set:')\n",
    "model.evaluate(x_val,y_val)"
   ]
  },
  {
   "cell_type": "markdown",
   "id": "9f70eae7",
   "metadata": {
    "papermill": {
     "duration": 0.037699,
     "end_time": "2022-05-31T05:13:23.985361",
     "exception": false,
     "start_time": "2022-05-31T05:13:23.947662",
     "status": "completed"
    },
    "tags": []
   },
   "source": []
  },
  {
   "cell_type": "code",
   "execution_count": 26,
   "id": "ad8363b0",
   "metadata": {
    "execution": {
     "iopub.execute_input": "2022-05-31T05:13:24.062424Z",
     "iopub.status.busy": "2022-05-31T05:13:24.062041Z",
     "iopub.status.idle": "2022-05-31T05:13:24.068547Z",
     "shell.execute_reply": "2022-05-31T05:13:24.067729Z"
    },
    "papermill": {
     "duration": 0.047672,
     "end_time": "2022-05-31T05:13:24.070644",
     "exception": false,
     "start_time": "2022-05-31T05:13:24.022972",
     "status": "completed"
    },
    "tags": []
   },
   "outputs": [],
   "source": [
    "def my_function(predictionReview):\n",
    "    sq = tokenizer.texts_to_sequences(predictionReview)\n",
    "    predictionComment = pad_sequences(sq, maxlen=MAX_SEQUENCE_LENGTH)\n",
    "    label_vec = model.predict(predictionComment.reshape(1,-1))\n",
    "    max_index_row = np.argmax(label_vec)\n",
    "    if max_index_row == 0 :\n",
    "        print('negative')\n",
    "    elif max_index_row == 1:\n",
    "        print('postive')\n",
    "    else:\n",
    "        print('neutral')\n"
   ]
  },
  {
   "cell_type": "code",
   "execution_count": 27,
   "id": "00a3f384",
   "metadata": {
    "execution": {
     "iopub.execute_input": "2022-05-31T05:13:24.150262Z",
     "iopub.status.busy": "2022-05-31T05:13:24.149131Z",
     "iopub.status.idle": "2022-05-31T05:13:24.472563Z",
     "shell.execute_reply": "2022-05-31T05:13:24.471382Z"
    },
    "papermill": {
     "duration": 0.365878,
     "end_time": "2022-05-31T05:13:24.474993",
     "exception": false,
     "start_time": "2022-05-31T05:13:24.109115",
     "status": "completed"
    },
    "tags": []
   },
   "outputs": [
    {
     "name": "stdout",
     "output_type": "stream",
     "text": [
      "neutral\n",
      "negative\n",
      "postive\n"
     ]
    }
   ],
   "source": [
    "# prediction part\n",
    "# [0 1 0] for postive , [0 0 1] for neutral, [1 0 0 ] for negative\n",
    "predictionReview = ['football player cristiano ronaldo scored the 5th goal of his career']\n",
    "predictionReview1 = ['product always lags , inconsistent and have ton of bugs']\n",
    "predictionReview2 = ['last year i bought this charger and it is one of the best chargers i have used ever']\n",
    "my_function(predictionReview)\n",
    "my_function(predictionReview1)\n",
    "my_function(predictionReview2)"
   ]
  }
 ],
 "metadata": {
  "kernelspec": {
   "display_name": "Python 3",
   "language": "python",
   "name": "python3"
  },
  "language_info": {
   "codemirror_mode": {
    "name": "ipython",
    "version": 3
   },
   "file_extension": ".py",
   "mimetype": "text/x-python",
   "name": "python",
   "nbconvert_exporter": "python",
   "pygments_lexer": "ipython3",
   "version": "3.7.12"
  },
  "papermill": {
   "default_parameters": {},
   "duration": 83.7599,
   "end_time": "2022-05-31T05:13:27.791516",
   "environment_variables": {},
   "exception": null,
   "input_path": "__notebook__.ipynb",
   "output_path": "__notebook__.ipynb",
   "parameters": {},
   "start_time": "2022-05-31T05:12:04.031616",
   "version": "2.3.4"
  }
 },
 "nbformat": 4,
 "nbformat_minor": 5
}
